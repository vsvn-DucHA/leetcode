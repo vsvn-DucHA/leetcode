{
 "cells": [
  {
   "cell_type": "code",
   "execution_count": null,
   "id": "4d0721f6",
   "metadata": {},
   "outputs": [],
   "source": [
    "import pandas as pd\n",
    "\n",
    "# Đọc toàn bộ data từ file CSV và lưu vào biến data\n",
    "# Sử dụng encoding='utf-8' để xử lý tiếng Việt\n",
    "data = pd.read_csv('./a.csv', encoding='utf-8')"
   ]
  },
  {
   "cell_type": "code",
   "execution_count": 40,
   "id": "16eb14da",
   "metadata": {},
   "outputs": [
    {
     "name": "stdout",
     "output_type": "stream",
     "text": [
      "Từ tiếng Anh: passenger\n",
      "Nghĩa: hành khách (đi tàu xe...)\n",
      "Phiên âm & Loại từ: [ˈpæsɪndʒə(r)] [ˈpæsɪndʒər]#;#n\n",
      "\n",
      "==================================================\n",
      "\n",
      "Từ tiếng Anh: appearance\n",
      "Nghĩa: sự xuất hiện; sự hiện ra; sự ló ra\n",
      "Phiên âm & Loại từ: [əˈpɪərəns]\n",
      "\n",
      "==================================================\n",
      "\n",
      "Từ tiếng Anh: various\n",
      "Nghĩa: khác nhau, không giống nhau, thuộc về nhiều loại\n",
      "Phiên âm & Loại từ: [ˈveəriəs]\n",
      "\n",
      "==================================================\n",
      "\n",
      "Từ tiếng Anh: enthusiasm\n",
      "Nghĩa: sự hăng hái, sự nhiệt tình\n",
      "Phiên âm & Loại từ: [ɪnˈθjuːziæzəm] [ɪnˈθuːziæzəm]#;#n\n",
      "\n",
      "==================================================\n",
      "\n",
      "Từ tiếng Anh: comfort\n",
      "Nghĩa: sự an ủi; người an ủi; nguồn an ủi\n",
      "Phiên âm & Loại từ: [ˈkʌmfət]\n",
      "\n",
      "==================================================\n",
      "\n",
      "Từ tiếng Anh: defect\n",
      "Nghĩa: nhược điểm; khuyết điểm\n",
      "Phiên âm & Loại từ: [ˈdiːfekt]\n",
      "\n",
      "==================================================\n",
      "\n",
      "Từ tiếng Anh: distribute\n",
      "Nghĩa: phân bổ, phân phối, phân phát\n",
      "Phiên âm & Loại từ: [dɪˈstrɪbjuːt]\n",
      "\n",
      "==================================================\n",
      "\n",
      "Từ tiếng Anh: recommend\n",
      "Nghĩa: đề nghị; khuyên bảo; dặn\n",
      "Phiên âm & Loại từ: [ˌrekəˈmend]\n",
      "\n",
      "==================================================\n",
      "\n",
      "Từ tiếng Anh: serious\n",
      "Đã thoát chương trình.\n"
     ]
    }
   ],
   "source": [
    "import random\n",
    "import pandas as pd\n",
    "\n",
    "# Giả định data là DataFrame với các cột: [từ tiếng Anh, phiên âm/loại từ, nghĩa tiếng Việt, ghi chú]\n",
    "# length là số dòng trong DataFrame\n",
    "length = len(data)\n",
    "\n",
    "for i in range(10):  # Lặp tối đa 10 lần\n",
    "    random_index = random.randint(0, length - 1)\n",
    "    row = data.iloc[random_index]\n",
    "\n",
    "    print(f\"Từ tiếng Anh: {row.iloc[0]}\", flush=True)\n",
    "    user_answer = input(\"Nghĩa tiếng Việt: \").strip()\n",
    "\n",
    "    # Kiểm tra nếu người dùng không nhập gì (thoát chương trình)\n",
    "    if not user_answer:\n",
    "        print(\"Đã thoát chương trình.\")\n",
    "        break\n",
    "\n",
    "    print(f\"Nghĩa: {row.iloc[2].strip()}\")\n",
    "\n",
    "    print(f\"Phiên âm & Loại từ: {row.iloc[1]}\")\n",
    "    if pd.notna(row.iloc[3]) and row.iloc[3].strip():\n",
    "        print(f\"Ghi chú: {row.iloc[3]}\")\n",
    "\n",
    "    print(f\"\\n{'='*50}\\n\")"
   ]
  }
 ],
 "metadata": {
  "kernelspec": {
   "display_name": "Python 3",
   "language": "python",
   "name": "python3"
  },
  "language_info": {
   "codemirror_mode": {
    "name": "ipython",
    "version": 3
   },
   "file_extension": ".py",
   "mimetype": "text/x-python",
   "name": "python",
   "nbconvert_exporter": "python",
   "pygments_lexer": "ipython3",
   "version": "3.11.4"
  }
 },
 "nbformat": 4,
 "nbformat_minor": 5
}
